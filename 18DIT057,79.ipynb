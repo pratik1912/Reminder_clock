{
 "cells": [
  {
   "cell_type": "code",
   "execution_count": 1,
   "metadata": {},
   "outputs": [
    {
     "name": "stdout",
     "output_type": "stream",
     "text": [
      "Set a time for the reminder (Ex. 01:30(hh:mm) or 12:30:00(hh:mm:ss))\n",
      ">> 12:29:59\n",
      "reminder set to go off in 0:00:19\n",
      "watch this\n"
     ]
    },
    {
     "data": {
      "text/plain": [
       "True"
      ]
     },
     "execution_count": 1,
     "metadata": {},
     "output_type": "execute_result"
    }
   ],
   "source": [
    "\"\"\" Reminder \"\"\"\n",
    "import datetime\n",
    "import os\n",
    "import time\n",
    "import random\n",
    "import webbrowser\n",
    "\n",
    "if not os.path.isfile(\"youtube_videos.txt\"):\n",
    "    print('Creating \"youtube_videos.txt\"...')\n",
    "    with open(\"youtube_videos.txt\", \"w\") as alarm_file:\n",
    "        alarm_file.write(\"https://www.youtube.com/watch?v=5Z1ktaZc7fo\")\n",
    "def check_reminder_input(alarm_time):\n",
    "    \"\"\"Checks to see if the user has entered in a valid reminder time\"\"\"\n",
    "    if len(reminder_time) == 1: \n",
    "        if reminder_time[0] < 24 and reminder_time[0] >= 0:\n",
    "            return True\n",
    "    if len(reminder_time) == 2: \n",
    "        if reminder_time[0] < 24 and reminder_time[0] >= 0 and reminder_time[1] < 60 and reminder_time[1] >= 0:\n",
    "            return True\n",
    "    elif len(reminder_time) == 3: \n",
    "        if reminder_time[0] < 24 and reminder_time[0] >= 0 and reminder_time[1] < 60 and reminder_time[1] >= 0 and \\\n",
    "           reminder_time[2] < 60 and reminder_time[2] >= 0:\n",
    "            return True\n",
    "    return False\n",
    "\n",
    "print(\"Set a time for the reminder (Ex. 01:30(hh:mm) or 12:30:00(hh:mm:ss))\")\n",
    "while True:\n",
    "    reminder_input = input(\">> \")\n",
    "    try:\n",
    "        reminder_time = [int(n) for n in reminder_input.split(\":\")]\n",
    "        if check_reminder_input(reminder_time):\n",
    "            break\n",
    "        else:\n",
    "            raise ValueError\n",
    "    except ValueError:\n",
    "        print(\"ERROR: Enter time in HH:MM or HH:MM:SS format\")\n",
    "\n",
    "seconds_hms = [3600, 60, 1] \n",
    "reminder_seconds = sum([a*b for a,b in zip(seconds_hms[:len(reminder_time)], reminder_time)])\n",
    "\n",
    "now = datetime.datetime.now()\n",
    "current_time_seconds = sum([a*b for a,b in zip(seconds_hms, [now.hour, now.minute, now.second])])\n",
    "\n",
    "time_diff_seconds = reminder_seconds - current_time_seconds\n",
    "\n",
    "if time_diff_seconds < 0:\n",
    "    time_diff_seconds += 86400 \n",
    "    \n",
    "print(\"reminder set to go off in %s\" % datetime.timedelta(seconds=time_diff_seconds))\n",
    "\n",
    "time.sleep(time_diff_seconds)\n",
    "\n",
    "print(\"watch this\")\n",
    "\n",
    "with open(\"youtube_videos.txt\", \"r\") as reminder_file:\n",
    "    videos = reminder_file.readlines()\n",
    "\n",
    "webbrowser.open(random.choice(videos))"
   ]
  },
  {
   "cell_type": "code",
   "execution_count": null,
   "metadata": {},
   "outputs": [],
   "source": []
  }
 ],
 "metadata": {
  "kernelspec": {
   "display_name": "Python 3",
   "language": "python",
   "name": "python3"
  },
  "language_info": {
   "codemirror_mode": {
    "name": "ipython",
    "version": 3
   },
   "file_extension": ".py",
   "mimetype": "text/x-python",
   "name": "python",
   "nbconvert_exporter": "python",
   "pygments_lexer": "ipython3",
   "version": "3.7.6"
  }
 },
 "nbformat": 4,
 "nbformat_minor": 4
}
